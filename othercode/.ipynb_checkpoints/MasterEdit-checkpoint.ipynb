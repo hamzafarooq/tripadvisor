{
 "cells": [
  {
   "cell_type": "code",
   "execution_count": 65,
   "metadata": {},
   "outputs": [],
   "source": [
    "#!/usr/bin/env python\n",
    "from datetime import datetime\n",
    "from time import time\n",
    "from lxml import html,etree\n",
    "from reviews_final import scrape, write_in_csv\n",
    "import pandas as pd\n",
    "import requests,re\n",
    "import os,sys\n",
    "import unicodecsv as csv\n",
    "import argparse\n",
    "\n",
    "def parse(locality,checkin_date,checkout_date,sort):\n",
    "    checkIn = checkin_date.strftime(\"%Y/%m/%d\")\n",
    "    checkOut = checkout_date.strftime(\"%Y/%m/%d\")\n",
    "    print (\"Scraper Inititated for Locality:%s\"%locality)\n",
    "    # TA rendering the autocomplete list using this API\n",
    "    print (\"Finding search result page URL\")\n",
    "    geo_url = 'https://www.tripadvisor.com/TypeAheadJson?action=API&startTime='+str(int(time()))+'&uiOrigin=GEOSCOPE&source=GEOSCOPE&interleaved=true&types=geo,theme_park&neighborhood_geos=true&link_type=hotel&details=true&max=12&injectNeighborhoods=true&query='+locality\n",
    "    api_response  = requests.get(geo_url, verify=False).json()\n",
    "    #getting the TA url for th equery from the autocomplete response\n",
    "    url_from_autocomplete = \"http://www.tripadvisor.com\"+api_response['results'][0]['url']\n",
    "    print ('URL found %s'%url_from_autocomplete)\n",
    "    geo = api_response['results'][0]['value']\n",
    "    #Formating date for writing to file\n",
    "    a=url_from_autocomplete\n",
    "    b=a.split(\"-\")\n",
    "    s=\"-\"\n",
    "    c=s.join([b[0],b[1],\"oa30\",b[2],b[3]])\n",
    "    urllist = [a,c]\n",
    "\n",
    "    date = checkin_date.strftime(\"%Y_%m_%d\")+\"_\"+checkout_date.strftime(\"%Y_%m_%d\")\n",
    "    #form data to get the hotels list from TA for the selected date\n",
    "    form_data = {'changeSet': 'TRAVEL_INFO',\n",
    "            'showSnippets': 'false',\n",
    "            'staydates':date,\n",
    "            'uguests': '2',\n",
    "            'sortOrder':sort\n",
    "        \n",
    "    }\n",
    "    \n",
    "    \n",
    "    \n",
    "    for url_from_autocomplete in urllist:\n",
    "        print(url_from_autocomplete)\n",
    "    #Referrer is necessary to get the correct response from TA if not provided they will redirect to home page\n",
    "        headers = {\n",
    "                            'Accept': 'text/javascript, text/html, application/xml, text/xml, */*',\n",
    "                            'Accept-Encoding': 'gzip,deflate',\n",
    "                            'Accept-Language': 'en-US,en;q=0.5',\n",
    "                            'Cache-Control': 'no-cache',\n",
    "                            'Connection': 'keep-alive',\n",
    "                            'Content-Type': 'application/x-www-form-urlencoded; charset=utf-8',\n",
    "                            'Host': 'www.tripadvisor.com',\n",
    "                            'Pragma': 'no-cache',\n",
    "                            'Referer': url_from_autocomplete,\n",
    "                            'User-Agent': 'Mozilla/5.0 (X11; Ubuntu; Linux i686; rv:28.0) Gecko/20100101 Firefox/28.0',\n",
    "                            'X-Requested-With': 'XMLHttpRequest'\n",
    "                        }\n",
    "        cookies=  {\"SetCurrency\":\"USD\"}\n",
    "        print (\"Downloading search results page\")\n",
    "        page_response  = requests.post(url = url_from_autocomplete,data=form_data,headers = headers, cookies = cookies, verify=False)\n",
    "        print (\"Parsing results \")\n",
    "        parser = html.fromstring(page_response.text)\n",
    "        hotel_lists = parser.xpath('//div[contains(@class,\"listItem\")]//div[contains(@class,\"listing collapsed\")]')\n",
    "        hotel_data = []\n",
    "        if not hotel_lists:\n",
    "            hotel_lists = parser.xpath('//div[contains(@class,\"listItem\")]//div[@class=\"listing \"]')\n",
    "\n",
    "        for hotel in hotel_lists:\n",
    "            XPATH_HOTEL_LINK = './/a[contains(@class,\"property_title\")]/@href'\n",
    "            XPATH_REVIEWS  = './/a[@class=\"review_count\"]//text()'\n",
    "            XPATH_RANK = './/div[@class=\"popRanking\"]//text()'\n",
    "            XPATH_RATING = './/span[contains(@class,\"rating\")]/@alt'\n",
    "            XPATH_HOTEL_NAME = './/a[contains(@class,\"property_title\")]//text()'\n",
    "            XPATH_HOTEL_FEATURES = './/div[contains(@casls,\"common_hotel_icons_list\")]//li//text()'\n",
    "            XPATH_HOTEL_PRICE = './/div[contains(@data-sizegroup,\"mini-meta-price\")]/text()'\n",
    "            XPATH_VIEW_DEALS = './/div[contains(@data-ajax-preserve,\"viewDeals\")]//text()'\n",
    "            XPATH_BOOKING_PROVIDER = './/div[contains(@data-sizegroup,\"mini-meta-provider\")]//text()'\n",
    "\n",
    "            raw_booking_provider = hotel.xpath(XPATH_BOOKING_PROVIDER)\n",
    "            raw_no_of_deals =  hotel.xpath(XPATH_VIEW_DEALS)\n",
    "            raw_hotel_link = hotel.xpath(XPATH_HOTEL_LINK)\n",
    "            raw_no_of_reviews = hotel.xpath(XPATH_REVIEWS)\n",
    "            raw_rank = hotel.xpath(XPATH_RANK)\n",
    "            raw_rating = hotel.xpath(XPATH_RATING)\n",
    "            raw_hotel_name = hotel.xpath(XPATH_HOTEL_NAME)\n",
    "            raw_hotel_features = hotel.xpath(XPATH_HOTEL_FEATURES)\n",
    "            raw_hotel_price_per_night  = hotel.xpath(XPATH_HOTEL_PRICE)\n",
    "\n",
    "            url = 'http://www.tripadvisor.com'+raw_hotel_link[0] if raw_hotel_link else  None\n",
    "            reviews = ''.join(raw_no_of_reviews).replace(\"reviews\",\"\").replace(\",\",\"\") if raw_no_of_reviews else 0\n",
    "            rank = ''.join(raw_rank) if raw_rank else None\n",
    "            rating = ''.join(raw_rating).replace('of 5 bubbles','').strip() if raw_rating else None\n",
    "            name = ''.join(raw_hotel_name).strip() if raw_hotel_name else None\n",
    "            hotel_features = ','.join(raw_hotel_features)\n",
    "            #price_per_night = ''.join(raw_hotel_price_per_night).encode('utf-8').replace('\\n','') if raw_hotel_price_per_night else None\n",
    "            price_per_night = ''.join(raw_hotel_price_per_night).replace('\\n','') if raw_hotel_price_per_night else None\n",
    "\n",
    "            no_of_deals = re.findall(\"all\\s+?(\\d+)\\s+?\",''.join(raw_no_of_deals))\n",
    "            booking_provider = ''.join(raw_booking_provider).strip() if raw_booking_provider else None\n",
    "\n",
    "            if no_of_deals:\n",
    "                no_of_deals = no_of_deals[0]\n",
    "            else:\n",
    "                no_of_deals = 0\n",
    "\n",
    "            data = {\n",
    "                    'hotel_name':name,\n",
    "                    'url':url,\n",
    "                    'locality':locality,\n",
    "                    'reviews':reviews,\n",
    "                    'tripadvisor_rating':rating,\n",
    "                    'checkOut':checkOut,\n",
    "                    'checkIn':checkIn,\n",
    "                    'hotel_features':hotel_features,\n",
    "                    'price_per_night':price_per_night,\n",
    "                    'no_of_deals':no_of_deals,\n",
    "                    'booking_provider':booking_provider\n",
    "\n",
    "            }\n",
    "            hotel_data.append(data)\n",
    "    return hotel_data\n",
    "\n"
   ]
  },
  {
   "cell_type": "code",
   "execution_count": null,
   "metadata": {},
   "outputs": [],
   "source": [
    "#%run trip_advisor_final.py \"2019/10/01\" \"2019/10/05\" \"popularity\" \"Barcelona\""
   ]
  },
  {
   "cell_type": "code",
   "execution_count": null,
   "metadata": {},
   "outputs": [],
   "source": []
  },
  {
   "cell_type": "code",
   "execution_count": null,
   "metadata": {},
   "outputs": [],
   "source": []
  },
  {
   "cell_type": "code",
   "execution_count": null,
   "metadata": {},
   "outputs": [],
   "source": []
  },
  {
   "cell_type": "code",
   "execution_count": null,
   "metadata": {},
   "outputs": [],
   "source": []
  },
  {
   "cell_type": "code",
   "execution_count": null,
   "metadata": {},
   "outputs": [],
   "source": []
  },
  {
   "cell_type": "code",
   "execution_count": null,
   "metadata": {},
   "outputs": [],
   "source": [
    "%run trip_advisor_final.py \"2019/10/01\" \"2019/10/05\" \"popularity\" \"Paris\"\n",
    "%run trip_advisor_final.py \"2019/10/01\" \"2019/10/05\" \"popularity\" \"Chicago\"\n",
    "%run trip_advisor_final.py \"2019/10/01\" \"2019/10/05\" \"popularity\" \"New York\"\n",
    "%run trip_advisor_final.py \"2019/10/01\" \"2019/10/05\" \"popularity\" \"San Francisco\"\n",
    "%run trip_advisor_final.py \"2019/10/01\" \"2019/10/05\" \"popularity\" \"Istanbul\"\n",
    "%run trip_advisor_final.py \"2019/10/01\" \"2019/10/05\" \"popularity\" \"Singapore\"\n",
    "%run trip_advisor_final.py \"2019/10/01\" \"2019/10/05\" \"popularity\" \"Bombay\"\n",
    "%run trip_advisor_final.py \"2019/10/01\" \"2019/10/05\" \"popularity\" \"Bangkok\"\n",
    "%run trip_advisor_final.py \"2019/10/01\" \"2019/10/05\" \"popularity\" \"Sydney\"\n",
    "%run trip_advisor_final.py \"2019/10/01\" \"2019/10/05\" \"popularity\" \"London\""
   ]
  },
  {
   "cell_type": "code",
   "execution_count": null,
   "metadata": {},
   "outputs": [],
   "source": [
    "%run trip_advisor_final.py \"2019/10/01\" \"2019/10/05\" \"popularity\" \"Rome\"\n",
    "%run trip_advisor_final.py \"2019/10/01\" \"2019/10/05\" \"popularity\" \"Athens\"\n",
    "%run trip_advisor_final.py \"2019/10/01\" \"2019/10/05\" \"popularity\" \"Miami\"\n",
    "%run trip_advisor_final.py \"2019/10/01\" \"2019/10/05\" \"popularity\" \"Austin\"\n",
    "%run trip_advisor_final.py \"2019/10/01\" \"2019/10/05\" \"popularity\" \"Tokyo\"\n",
    "%run trip_advisor_final.py \"2019/10/01\" \"2019/10/05\" \"popularity\" \"Bali\""
   ]
  },
  {
   "cell_type": "code",
   "execution_count": null,
   "metadata": {},
   "outputs": [],
   "source": [
    "%run trip_advisor_final.py \"2019/10/01\" \"2019/10/05\" \"popularity\" \"Osaka\"\n",
    "%run trip_advisor_final.py \"2019/10/01\" \"2019/10/05\" \"popularity\" \"Hong Kong\"\n",
    "%run trip_advisor_final.py \"2019/10/01\" \"2019/10/05\" \"popularity\" \"Dubai\"\n",
    "%run trip_advisor_final.py \"2019/10/01\" \"2019/10/05\" \"popularity\" \"Phuket\"\n",
    "%run trip_advisor_final.py \"2019/10/01\" \"2019/10/05\" \"popularity\" \"Seoul\"\n",
    "%run trip_advisor_final.py \"2019/10/01\" \"2019/10/05\" \"popularity\" \"Prague\"\n",
    "%run trip_advisor_final.py \"2019/10/01\" \"2019/10/05\" \"popularity\" \"Milan\""
   ]
  },
  {
   "cell_type": "code",
   "execution_count": 66,
   "metadata": {},
   "outputs": [],
   "source": [
    "test=\"2019/11/01,2019/11/05,popularity,Milan\""
   ]
  },
  {
   "cell_type": "code",
   "execution_count": 67,
   "metadata": {},
   "outputs": [
    {
     "name": "stdout",
     "output_type": "stream",
     "text": [
      "2019/11/01,2019/11/05,popularity,Milan\n"
     ]
    }
   ],
   "source": [
    "parser = argparse.ArgumentParser()\n",
    "parser.add_argument('checkin_date',help = 'Hotel Check In Date (Format: YYYY/MM/DD')\n",
    "sortorder_help = \"\"\"\n",
    "    available sort orders are :\\n\n",
    "    priceLow - hotels with lowest price,\n",
    "    distLow : Hotels located near to the search center,\n",
    "    recommended: highest rated hotels based on traveler reviews,\n",
    "    popularity :Most popular hotels as chosen by Tipadvisor users\n",
    "    \"\"\"\n",
    "parser.add_argument('checkout_date',help = 'Hotel Chek Out Date (Format: YYYY/MM/DD)')\n",
    "parser.add_argument('sort',help = sortorder_help,default ='popularity ')\n",
    "parser.add_argument('locality',help = 'Search Locality')\n",
    "print(test)"
   ]
  },
  {
   "cell_type": "code",
   "execution_count": 68,
   "metadata": {},
   "outputs": [
    {
     "data": {
      "text/plain": [
       "['2019/11/01', '2019/11/05', 'popularity', 'Milan']"
      ]
     },
     "execution_count": 68,
     "metadata": {},
     "output_type": "execute_result"
    }
   ],
   "source": [
    "test.split(',')"
   ]
  },
  {
   "cell_type": "code",
   "execution_count": 69,
   "metadata": {},
   "outputs": [
    {
     "name": "stdout",
     "output_type": "stream",
     "text": [
      "Namespace(checkin_date='2019/11/01', checkout_date='2019/11/05', locality='Milan', sort='popularity')\n"
     ]
    }
   ],
   "source": [
    "args = parser.parse_args(test.split(','))\n",
    "print (args)\n",
    "locality = args.locality\n",
    "checkin_date = datetime.strptime(args.checkin_date,\"%Y/%m/%d\")\n",
    "checkout_date = datetime.strptime(args.checkout_date,\"%Y/%m/%d\")\n",
    "sort= args.sort\n",
    "checkIn = checkin_date.strftime(\"%Y/%m/%d\")\n",
    "checkOut = checkout_date.strftime(\"%Y/%m/%d\")\n",
    "today = datetime.now()"
   ]
  },
  {
   "cell_type": "code",
   "execution_count": 70,
   "metadata": {},
   "outputs": [
    {
     "name": "stdout",
     "output_type": "stream",
     "text": [
      "Milan\n"
     ]
    }
   ],
   "source": [
    "args\n",
    "print(locality)"
   ]
  },
  {
   "cell_type": "code",
   "execution_count": 71,
   "metadata": {},
   "outputs": [
    {
     "name": "stdout",
     "output_type": "stream",
     "text": [
      "Scraper Inititated for Locality:Milan\n",
      "Finding search result page URL\n"
     ]
    },
    {
     "name": "stderr",
     "output_type": "stream",
     "text": [
      "/Users/hfarooq/anaconda3/lib/python3.7/site-packages/urllib3/connectionpool.py:847: InsecureRequestWarning: Unverified HTTPS request is being made. Adding certificate verification is strongly advised. See: https://urllib3.readthedocs.io/en/latest/advanced-usage.html#ssl-warnings\n",
      "  InsecureRequestWarning)\n"
     ]
    },
    {
     "name": "stdout",
     "output_type": "stream",
     "text": [
      "URL found http://www.tripadvisor.com/Hotels-g187849-Milan_Lombardy-Hotels.html\n",
      "Downloading search results page\n"
     ]
    },
    {
     "name": "stderr",
     "output_type": "stream",
     "text": [
      "/Users/hfarooq/anaconda3/lib/python3.7/site-packages/urllib3/connectionpool.py:847: InsecureRequestWarning: Unverified HTTPS request is being made. Adding certificate verification is strongly advised. See: https://urllib3.readthedocs.io/en/latest/advanced-usage.html#ssl-warnings\n",
      "  InsecureRequestWarning)\n"
     ]
    },
    {
     "name": "stdout",
     "output_type": "stream",
     "text": [
      "Parsing results \n",
      "Downloading search results page\n"
     ]
    },
    {
     "name": "stderr",
     "output_type": "stream",
     "text": [
      "/Users/hfarooq/anaconda3/lib/python3.7/site-packages/urllib3/connectionpool.py:847: InsecureRequestWarning: Unverified HTTPS request is being made. Adding certificate verification is strongly advised. See: https://urllib3.readthedocs.io/en/latest/advanced-usage.html#ssl-warnings\n",
      "  InsecureRequestWarning)\n"
     ]
    },
    {
     "name": "stdout",
     "output_type": "stream",
     "text": [
      "Parsing results \n",
      "Writing to output file tripadvisor_data.csv\n"
     ]
    }
   ],
   "source": [
    "if today<datetime.strptime(checkIn,\"%Y/%m/%d\") and datetime.strptime(checkIn,\"%Y/%m/%d\")<datetime.strptime(checkOut,\"%Y/%m/%d\"):\n",
    "        data = parse(locality,checkin_date,checkout_date,sort)\n",
    "        print (\"Writing to output file tripadvisor_data.csv\")\n",
    "        with open('tripadvisor_data.csv','wb')as csvfile:\n",
    "            fieldnames = ['hotel_name','url','locality','reviews','tripadvisor_rating','checkIn','checkOut','price_per_night','booking_provider','no_of_deals','hotel_features']\n",
    "            my_df  = pd.DataFrame(columns = fieldnames)\n",
    "            for row in  data:\n",
    "                my_df.loc[len(my_df)] = [row['hotel_name'],row['url'],row['locality'],row['reviews'],row['tripadvisor_rating'],row['checkIn'],row['checkOut'],row['price_per_night'],row['booking_provider'],row['no_of_deals'],row['hotel_features']]\n",
    "            DB_COLUMN   = 'review_body'\n",
    "            DB_COLUMN1 = 'review_date'\n",
    "            DB_COLUMN2 = 'hotelName'\n",
    "            DB_COLUMN3 = 'hotelUrl'\n",
    "            start_urls = []\n",
    "            for index, row2 in my_df.iterrows():\n",
    "                start_urls.append(row2['url'])\n",
    "            lang = 'en'\n",
    "    \n",
    "            headers = [\n",
    "            DB_COLUMN,\n",
    "            DB_COLUMN1,\n",
    "            DB_COLUMN2,\n",
    "            DB_COLUMN3\n",
    "            ]\n",
    "            reviews_df  = pd.DataFrame(columns = headers)"
   ]
  },
  {
   "cell_type": "code",
   "execution_count": 43,
   "metadata": {},
   "outputs": [
    {
     "name": "stdout",
     "output_type": "stream",
     "text": [
      "http://www.tripadvisor.com/Hotel_Review-g187849-d202884-Reviews-Ibis_Milano_Centro-Milan_Lombardy.html\n",
      "http://www.tripadvisor.com/Hotel_Review-g187849-d260953-Reviews-Hotel_Bernina-Milan_Lombardy.html\n",
      "http://www.tripadvisor.com/Hotel_Review-g187849-d231271-Reviews-Excelsior_Hotel_Gallia_a_Luxury_Collection_Hotel_Milan-Milan_Lombardy.html\n",
      "http://www.tripadvisor.com/Hotel_Review-g187849-d202853-Reviews-Hilton_Milan-Milan_Lombardy.html\n",
      "http://www.tripadvisor.com/Hotel_Review-g187849-d229090-Reviews-Hotel_Berna-Milan_Lombardy.html\n",
      "http://www.tripadvisor.com/Hotel_Review-g187849-d12130410-Reviews-NYX_Hotel_Milan-Milan_Lombardy.html\n",
      "http://www.tripadvisor.com/Hotel_Review-g187849-d7931076-Reviews-Hilton_Garden_Inn_Milan_North-Milan_Lombardy.html\n",
      "http://www.tripadvisor.com/Hotel_Review-g187849-d272504-Reviews-Eco_Hotel_La_Residenza-Milan_Lombardy.html\n",
      "http://www.tripadvisor.com/Hotel_Review-g187849-d275801-Reviews-Grand_Visconti_Palace-Milan_Lombardy.html\n",
      "http://www.tripadvisor.com/Hotel_Review-g187849-d646332-Reviews-Radisson_Blu_Hotel_Milan-Milan_Lombardy.html\n",
      "http://www.tripadvisor.com/Hotel_Review-g187849-d3455157-Reviews-Klima_Hotel_Milano_Fiere-Milan_Lombardy.html\n",
      "http://www.tripadvisor.com/Hotel_Review-g187849-d232917-Reviews-Enterprise_Hotel-Milan_Lombardy.html\n",
      "http://www.tripadvisor.com/Hotel_Review-g187849-d7363249-Reviews-The_Square_Milano_Duomo-Milan_Lombardy.html\n",
      "http://www.tripadvisor.com/Hotel_Review-g187849-d12198689-Reviews-43_Station_Hotel-Milan_Lombardy.html\n",
      "http://www.tripadvisor.com/Hotel_Review-g187849-d9701793-Reviews-Ostello_Bello_Grande-Milan_Lombardy.html\n",
      "http://www.tripadvisor.com/Hotel_Review-g187849-d234686-Reviews-Hotel_Sanpi_Milano-Milan_Lombardy.html\n",
      "http://www.tripadvisor.com/Hotel_Review-g187849-d7814790-Reviews-B_B_Hotel_Milano_San_Siro-Milan_Lombardy.html\n",
      "http://www.tripadvisor.com/Hotel_Review-g187849-d7772910-Reviews-B_B_Hotel_Milano_Sant_Ambrogio-Milan_Lombardy.html\n",
      "http://www.tripadvisor.com/Hotel_Review-g187849-d202857-Reviews-NH_Collection_Milano_President-Milan_Lombardy.html\n",
      "http://www.tripadvisor.com/Hotel_Review-g187849-d6820820-Reviews-Hyatt_Centric_Milan_Centrale-Milan_Lombardy.html\n",
      "http://www.tripadvisor.com/Hotel_Review-g187849-d2437862-Reviews-Barcelo_Milan-Milan_Lombardy.html\n",
      "http://www.tripadvisor.com/Hotel_Review-g187849-d202888-Reviews-UNAHOTELS_Century_Milano-Milan_Lombardy.html\n",
      "http://www.tripadvisor.com/Hotel_Review-g187849-d229106-Reviews-Michelangelo_Hotel-Milan_Lombardy.html\n",
      "http://www.tripadvisor.com/Hotel_Review-g187849-d9762116-Reviews-Room_Mate_Giulia-Milan_Lombardy.html\n",
      "http://www.tripadvisor.com/Hotel_Review-g187849-d202838-Reviews-IH_Hotels_Milano_Lorenteggio-Milan_Lombardy.html\n",
      "http://www.tripadvisor.com/Hotel_Review-g187849-d8638714-Reviews-Glam_Hotel-Milan_Lombardy.html\n",
      "http://www.tripadvisor.com/Hotel_Review-g187849-d202890-Reviews-Best_Western_Plus_Hotel_Galles-Milan_Lombardy.html\n",
      "http://www.tripadvisor.com/Hotel_Review-g187849-d202569-Reviews-C_hotels_Atlantic-Milan_Lombardy.html\n",
      "http://www.tripadvisor.com/Hotel_Review-g187849-d1764108-Reviews-Ramada_Plaza_by_Wyndham_Milano-Milan_Lombardy.html\n",
      "http://www.tripadvisor.com/Hotel_Review-g187849-d7910095-Reviews-Hotel_Da_Vinci-Milan_Lombardy.html\n"
     ]
    }
   ],
   "source": [
    "for url in start_urls:\n",
    "    print(url)"
   ]
  },
  {
   "cell_type": "code",
   "execution_count": null,
   "metadata": {},
   "outputs": [],
   "source": [
    "http://www.tripadvisor.com/Hotels-g187849-Milan_Lombardy-Hotels.html\n",
    "https://www.tripadvisor.com/Hotels-g187849-oa30-Milan_Lombardy-Hotels.html\n",
    "https://www.tripadvisor.com/Hotels-g187849-oa60-Milan_Lombardy-Hotels.html"
   ]
  },
  {
   "cell_type": "code",
   "execution_count": 45,
   "metadata": {},
   "outputs": [],
   "source": [
    "a=\"http://www.tripadvisor.com/Hotels-g187849-Milan_Lombardy-Hotels.html\""
   ]
  },
  {
   "cell_type": "code",
   "execution_count": 48,
   "metadata": {},
   "outputs": [],
   "source": [
    "b=a.split(\"-\")"
   ]
  },
  {
   "cell_type": "code",
   "execution_count": 49,
   "metadata": {},
   "outputs": [
    {
     "name": "stdout",
     "output_type": "stream",
     "text": [
      "['http://www.tripadvisor.com/Hotels', 'g187849', 'Milan_Lombardy', 'Hotels.html']\n"
     ]
    }
   ],
   "source": [
    "print (b)"
   ]
  },
  {
   "cell_type": "code",
   "execution_count": 50,
   "metadata": {},
   "outputs": [
    {
     "name": "stdout",
     "output_type": "stream",
     "text": [
      "http://www.tripadvisor.com/Hotels\n"
     ]
    }
   ],
   "source": [
    "print(b[0])"
   ]
  },
  {
   "cell_type": "code",
   "execution_count": 51,
   "metadata": {},
   "outputs": [],
   "source": [
    "s=\"-\""
   ]
  },
  {
   "cell_type": "code",
   "execution_count": 62,
   "metadata": {},
   "outputs": [],
   "source": [
    "c=s.join([b[0],b[1],\"oa30\",b[2],b[3]])\n",
    "d=s.join([b[0],b[1],\"oa60\",b[2],b[3]])"
   ]
  },
  {
   "cell_type": "code",
   "execution_count": 63,
   "metadata": {},
   "outputs": [],
   "source": [
    "urllist = [a,c,d]"
   ]
  },
  {
   "cell_type": "code",
   "execution_count": 64,
   "metadata": {},
   "outputs": [
    {
     "data": {
      "text/plain": [
       "['http://www.tripadvisor.com/Hotels-g187849-Milan_Lombardy-Hotels.html',\n",
       " 'http://www.tripadvisor.com/Hotels-g187849-oa30-Milan_Lombardy-Hotels.html',\n",
       " 'http://www.tripadvisor.com/Hotels-g187849-oa60-Milan_Lombardy-Hotels.html']"
      ]
     },
     "execution_count": 64,
     "metadata": {},
     "output_type": "execute_result"
    }
   ],
   "source": [
    "urllist"
   ]
  },
  {
   "cell_type": "code",
   "execution_count": null,
   "metadata": {},
   "outputs": [],
   "source": []
  },
  {
   "cell_type": "code",
   "execution_count": null,
   "metadata": {},
   "outputs": [],
   "source": []
  },
  {
   "cell_type": "code",
   "execution_count": null,
   "metadata": {},
   "outputs": [],
   "source": []
  },
  {
   "cell_type": "code",
   "execution_count": null,
   "metadata": {},
   "outputs": [],
   "source": [
    "\n",
    "\n",
    "\n",
    "            for url in start_urls:\n",
    "\n",
    "                # get all reviews for 'url' and 'lang'\n",
    "                items = scrape(url, lang)\n",
    "                filename = 'hotelReviewsIn' + locality + '__' + lang\n",
    "                filename2 = \"HotelListIn\" + locality + '__' + lang\n",
    "                if not items:\n",
    "                    print('No reviews')\n",
    "                else:\n",
    "                    # write in CSV\n",
    "                    for i in items:\n",
    "                        reviews_df.loc[len(reviews_df)] = [i['review_body'],i['review_date'],my_df.loc[my_df['url'] == url]['hotel_name'], url]\n",
    "            ci = checkIn.replace(\"/\", \"\")\n",
    "            co = checkOut.replace(\"/\", \"\")\n",
    "            reviews_df.to_csv(filename + ci +co+'.csv', encoding='utf-8')     \n",
    "            my_df.to_csv(filename2 + ci +co+'.csv', encoding='utf-8')       \n",
    "    #checking whether the entered date is already passed\n",
    "    elif today>datetime.strptime(checkIn,\"%Y/%m/%d\") or today>datetime.strptime(checkOut,\"%Y/%m/%d\"):\n",
    "        print (\"Invalid Checkin date: Please enter a valid checkin and checkout dates,entered date is already passed\")\n",
    "\n",
    "    elif datetime.strptime(checkIn,\"%Y/%m/%d\")>datetime.strptime(checkOut,\"%Y/%m/%d\"):\n",
    "        print (\"Invalid Checkin date: CheckIn date must be less than checkOut date\")\n"
   ]
  }
 ],
 "metadata": {
  "kernelspec": {
   "display_name": "Python 3",
   "language": "python",
   "name": "python3"
  },
  "language_info": {
   "codemirror_mode": {
    "name": "ipython",
    "version": 3
   },
   "file_extension": ".py",
   "mimetype": "text/x-python",
   "name": "python",
   "nbconvert_exporter": "python",
   "pygments_lexer": "ipython3",
   "version": "3.7.3"
  }
 },
 "nbformat": 4,
 "nbformat_minor": 2
}
