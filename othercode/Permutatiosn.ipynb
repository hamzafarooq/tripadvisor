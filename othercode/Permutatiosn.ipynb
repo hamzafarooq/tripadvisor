{
 "cells": [
  {
   "cell_type": "code",
   "execution_count": 1,
   "metadata": {},
   "outputs": [],
   "source": [
    "from itertools import permutations"
   ]
  },
  {
   "cell_type": "code",
   "execution_count": null,
   "metadata": {},
   "outputs": [],
   "source": [
    "print ([''.join(p) for p in permutations('dune')])"
   ]
  },
  {
   "cell_type": "code",
   "execution_count": null,
   "metadata": {},
   "outputs": [],
   "source": [
    "l= []\n",
    "l = [''.join(p) for p in permutations(s1)]"
   ]
  },
  {
   "cell_type": "code",
   "execution_count": null,
   "metadata": {},
   "outputs": [],
   "source": [
    "print(l)"
   ]
  },
  {
   "cell_type": "code",
   "execution_count": null,
   "metadata": {},
   "outputs": [],
   "source": [
    "for p in permutations('dune'):\n",
    "    print (''.join(p))"
   ]
  },
  {
   "cell_type": "code",
   "execution_count": 57,
   "metadata": {},
   "outputs": [
    {
     "name": "stdout",
     "output_type": "stream",
     "text": [
      "one\n",
      "oen\n",
      "noe\n",
      "neo\n",
      "eno\n",
      "eon\n",
      "None\n"
     ]
    }
   ],
   "source": [
    "def permut(string, step = 0):\n",
    "    if step == len(string):\n",
    "        # we've gotten to the end, print the permutation\n",
    "        print (\"\".join(string))\n",
    "    for i in range(step, len(string)):  # copy the string (store as array)\n",
    "        string_copy = [c for c in string]\n",
    "        string_copy[step], string_copy[i] =string_copy[i], string_copy[step]  # swap the current index with the step\n",
    "        permut(string_copy, step + 1) # recurse on the portion of the stringthat has not been swapped yet\n",
    "print (permut ('one'))"
   ]
  },
  {
   "cell_type": "code",
   "execution_count": 30,
   "metadata": {},
   "outputs": [],
   "source": [
    "s1='ab'\n",
    "s2='abcsedff'\n",
    "\n",
    "l = [''.join(p) for p in permutations(s1)]"
   ]
  },
  {
   "cell_type": "code",
   "execution_count": 31,
   "metadata": {},
   "outputs": [
    {
     "data": {
      "text/plain": [
       "2"
      ]
     },
     "execution_count": 31,
     "metadata": {},
     "output_type": "execute_result"
    }
   ],
   "source": [
    "len(l)"
   ]
  },
  {
   "cell_type": "code",
   "execution_count": 32,
   "metadata": {},
   "outputs": [],
   "source": [
    "l= []\n",
    "l = [''.join(p) for p in permutations(s1)]\n",
    "m=''\n",
    "i=0\n"
   ]
  },
  {
   "cell_type": "code",
   "execution_count": 33,
   "metadata": {},
   "outputs": [
    {
     "name": "stdout",
     "output_type": "stream",
     "text": [
      "0\n",
      "1\n"
     ]
    }
   ],
   "source": [
    "while i in range(len(l)):\n",
    "    print (i)\n",
    "    if l[i] in s2:\n",
    "        m = 'a'\n",
    "        i=i+1\n",
    "    else:\n",
    "        i=i+1"
   ]
  },
  {
   "cell_type": "code",
   "execution_count": 34,
   "metadata": {},
   "outputs": [
    {
     "name": "stdout",
     "output_type": "stream",
     "text": [
      "a\n"
     ]
    }
   ],
   "source": [
    "print(m )"
   ]
  },
  {
   "cell_type": "code",
   "execution_count": 49,
   "metadata": {},
   "outputs": [],
   "source": [
    "def permcheck(s1: str,s2: str):\n",
    "    l= []\n",
    "    l = [''.join(p) for p in permutations(s1)]\n",
    "    i=0\n",
    "    m='False'\n",
    "    while i in range(len(l)):\n",
    "    #print (i)\n",
    "        if l[i] in s2:\n",
    "            m = 'True'\n",
    "            i=i+1\n",
    "        else:\n",
    "            i=i+1\n",
    "    return m"
   ]
  },
  {
   "cell_type": "code",
   "execution_count": 54,
   "metadata": {},
   "outputs": [
    {
     "data": {
      "text/plain": [
       "'True'"
      ]
     },
     "execution_count": 54,
     "metadata": {},
     "output_type": "execute_result"
    }
   ],
   "source": [
    "permcheck('fdes','abcsedff')"
   ]
  },
  {
   "cell_type": "code",
   "execution_count": null,
   "metadata": {},
   "outputs": [],
   "source": []
  }
 ],
 "metadata": {
  "kernelspec": {
   "display_name": "Python 3",
   "language": "python",
   "name": "python3"
  },
  "language_info": {
   "codemirror_mode": {
    "name": "ipython",
    "version": 3
   },
   "file_extension": ".py",
   "mimetype": "text/x-python",
   "name": "python",
   "nbconvert_exporter": "python",
   "pygments_lexer": "ipython3",
   "version": "3.7.3"
  }
 },
 "nbformat": 4,
 "nbformat_minor": 2
}
