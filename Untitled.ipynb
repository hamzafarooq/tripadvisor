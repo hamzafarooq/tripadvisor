{
 "cells": [
  {
   "cell_type": "code",
   "execution_count": null,
   "metadata": {},
   "outputs": [],
   "source": [
    "%run trip_advisor_final.py \"2021/12/01\" \"2021/12/05\" \"recommended\" \"Barcelona\""
   ]
  },
  {
   "cell_type": "markdown",
   "metadata": {},
   "source": []
  },
  {
   "cell_type": "code",
   "execution_count": null,
   "metadata": {},
   "outputs": [],
   "source": [
    "    https://www.tripadvisor.com/Hotel_Review-g187147-d650135-Reviews-Le_Relais_des_Halles-Paris_Ile_de_France.html\n",
    "    https://www.tripadvisor.com/Hotel_Review-g187147-d650135-Reviews-Le_Relais_des_Halles-Paris_Ile_de_France.html?filterLang=en\n",
    "    http://www.tripadvisor.com/Hotel_Review-g187147-d650135-Reviews-Le_Relais_des_Halles-Paris_Ile_de_France.html?filterLang=en"
   ]
  },
  {
   "cell_type": "code",
   "execution_count": 1,
   "metadata": {},
   "outputs": [
    {
     "ename": "ModuleNotFoundError",
     "evalue": "No module named 'bs4'",
     "output_type": "error",
     "traceback": [
      "\u001b[0;31m---------------------------------------------------------------------------\u001b[0m",
      "\u001b[0;31mModuleNotFoundError\u001b[0m                       Traceback (most recent call last)",
      "\u001b[0;32m/var/folders/ln/d3nv2vlj4xgfycm9nds04pzc0000gn/T/ipykernel_69899/1838838219.py\u001b[0m in \u001b[0;36m<module>\u001b[0;34m\u001b[0m\n\u001b[1;32m      1\u001b[0m \u001b[0;32mimport\u001b[0m \u001b[0mrequests\u001b[0m\u001b[0;34m\u001b[0m\u001b[0;34m\u001b[0m\u001b[0m\n\u001b[0;32m----> 2\u001b[0;31m \u001b[0;32mfrom\u001b[0m \u001b[0mbs4\u001b[0m \u001b[0;32mimport\u001b[0m \u001b[0mBeautifulSoup\u001b[0m\u001b[0;34m\u001b[0m\u001b[0;34m\u001b[0m\u001b[0m\n\u001b[0m\u001b[1;32m      3\u001b[0m \u001b[0;32mimport\u001b[0m \u001b[0mcsv\u001b[0m\u001b[0;34m\u001b[0m\u001b[0;34m\u001b[0m\u001b[0m\n\u001b[1;32m      4\u001b[0m \u001b[0;32mimport\u001b[0m \u001b[0mwebbrowser\u001b[0m\u001b[0;34m\u001b[0m\u001b[0;34m\u001b[0m\u001b[0m\n\u001b[1;32m      5\u001b[0m \u001b[0;32mimport\u001b[0m \u001b[0mio\u001b[0m\u001b[0;34m\u001b[0m\u001b[0;34m\u001b[0m\u001b[0m\n",
      "\u001b[0;31mModuleNotFoundError\u001b[0m: No module named 'bs4'"
     ]
    }
   ],
   "source": [
    "\n",
    "import requests\n",
    "from bs4 import BeautifulSoup\n",
    "import csv\n",
    "import webbrowser\n",
    "import io\n"
   ]
  },
  {
   "cell_type": "code",
   "execution_count": 30,
   "metadata": {},
   "outputs": [],
   "source": [
    "session = requests.Session()\n",
    "\n",
    "session.headers.update({'User-Agent': 'Mozilla/5.0 (Macintosh; Intel Mac OS X 10_15_7) AppleWebKit/537.36 (KHTML, like Gecko) Chrome/94.0.4606.81 Safari/537.36'})\n"
   ]
  },
  {
   "cell_type": "code",
   "execution_count": 53,
   "metadata": {},
   "outputs": [],
   "source": [
    "url = 'https://www.tripadvisor.com/Hotel_Review-g187147-d650135-Reviews-Le_Relais_des_Halles-Paris_Ile_de_France.html?filterLang=en'"
   ]
  },
  {
   "cell_type": "code",
   "execution_count": 41,
   "metadata": {},
   "outputs": [],
   "source": [
    "def get_soup(session, url, show=False):\n",
    "    r = session.get(url)\n",
    "    if show:\n",
    "        display(r.content, 'temp.html')\n",
    "\n",
    "    if r.status_code != 200: # not OK\n",
    "        print('[get_soup] status code:', r.status_code)\n",
    "    else:\n",
    "        return BeautifulSoup(r.text, 'html.parser')\n"
   ]
  },
  {
   "cell_type": "code",
   "execution_count": 57,
   "metadata": {},
   "outputs": [],
   "source": [
    "\n",
    "\n",
    "#coding: utf-8\n",
    "\n",
    "# In[ ]:\n",
    "\n",
    "\n",
    "import requests\n",
    "from bs4 import BeautifulSoup\n",
    "import csv\n",
    "import webbrowser\n",
    "import io\n",
    "\n",
    "def display(content, filename='output.html'):\n",
    "    with open(filename, 'wb') as f:\n",
    "        f.write(content)\n",
    "        webbrowser.open(filename)\n",
    "\n",
    "def get_soup(session, url, show=False):\n",
    "    r = session.get(url)\n",
    "    if show:\n",
    "        display(r.content, 'temp.html')\n",
    "\n",
    "    if r.status_code != 200: # not OK\n",
    "        print('[get_soup] status code:', r.status_code)\n",
    "    else:\n",
    "        return BeautifulSoup(r.text, 'html.parser')\n",
    "\n",
    "def post_soup(session, url, params, show=False):\n",
    "    '''Read HTML from server and convert to Soup'''\n",
    "\n",
    "    r = session.post(url, data=params)\n",
    "\n",
    "    if show:\n",
    "        display(r.content, 'temp.html')\n",
    "\n",
    "    if r.status_code != 200: # not OK\n",
    "        print('[post_soup] status code:', r.status_code)\n",
    "    else:\n",
    "        return BeautifulSoup(r.text, 'html.parser')\n",
    "\n",
    "def scrape(url, lang='ALL'):\n",
    "\n",
    "    # create session to keep all cookies (etc.) between requests\n",
    "    session = requests.Session()\n",
    "\n",
    "    session.headers.update({\n",
    "        'User-Agent': 'Mozilla/5.0 (Macintosh; Intel Mac OS X 10_15_7) AppleWebKit/537.36 (KHTML, like Gecko) Chrome/94.0.4606.81 Safari/537.36'\n",
    "    })\n",
    "\n",
    "\n",
    "    items = parse(session, url )\n",
    "\n",
    "    return items\n",
    "\n",
    "def parse(session, url):\n",
    "    print('Get number of reviews and start getting subpages with reviews')\n",
    "\n",
    "    print('[parse] url:', url)\n",
    "\n",
    "    soup = get_soup(session, url)\n",
    "\n",
    "    if not soup:\n",
    "        print('[parse] no soup:', url)\n",
    "        return\n",
    "\n",
    "    #num_reviews = soup.find('span', class_='reviews_header_count').text # get text\n",
    "    #num_reviews = num_reviews[1:-1]\n",
    "    #num_reviews = num_reviews.replace(',', '')\n",
    "    #num_reviews = int(num_reviews) # convert text into integer\n",
    "    #print('[parse] num_reviews ALL:', num_reviews)\n",
    "\n",
    "    url_template = url.replace('Reviews-', 'Reviews-or{}-')\n",
    "    print('[parse] url_template:', url_template)\n",
    "\n",
    "    items = []\n",
    "\n",
    "    offset = 0\n",
    "\n",
    "#https://www.tripadvisor.com/Hotel_Review-g187497-d289670-Reviews-Gran_Hotel_Torre_Catalunya-Barcelona_Catalonia.html#REVIEWS\n",
    "#https://www.tripadvisor.com/Hotel_Review-g187497-d289670-Reviews-or5-Gran_Hotel_Torre_Catalunya-Barcelona_Catalonia.html#REVIEWS\n",
    "#https://www.tripadvisor.com/Hotel_Review-g187497-d289670-Reviews-or10-Gran_Hotel_Torre_Catalunya-Barcelona_Catalonia.html#REVIEWS\n",
    "#https://www.tripadvisor.com/Hotel_Review-g187497-d289670-Reviews-or15-Gran_Hotel_Torre_Catalunya-Barcelona_Catalonia.html#REVIEWS\n",
    "\n",
    "    while(offset < 10):\n",
    "        print(\"offset\"+offset)\n",
    "        subpage_url = url_template.format(offset)\n",
    "\n",
    "        subpage_items = parse_reviews(session, subpage_url)\n",
    "        if not subpage_items:\n",
    "            break\n",
    "\n",
    "        items += subpage_items\n",
    "\n",
    "        if len(subpage_items) < 3:\n",
    "            break\n",
    "\n",
    "        offset += 5\n",
    "\n",
    "    return items\n",
    "\n",
    "def get_reviews_ids(soup):\n",
    "\n",
    "    items = soup.find_all('div', attrs={'data-reviewid': True})\n",
    "\n",
    "    if items:\n",
    "        reviews_ids = [x.attrs['data-reviewid'] for x in items][::2]\n",
    "        print('[get_reviews_ids] data-reviewid:', reviews_ids)\n",
    "        return reviews_ids\n",
    "\n",
    "def get_more(session, reviews_ids):\n",
    "\n",
    "    url = 'https://www.tripadvisor.com/OverlayWidgetAjax?Mode=EXPANDED_HOTEL_REVIEWS_RESP&metaReferer=Hotel_Review'\n",
    "\n",
    "    payload = {\n",
    "        'reviews': ','.join(reviews_ids), # ie. \"577882734,577547902,577300887\",\n",
    "        #'contextChoice': 'DETAIL_HR', # ???\n",
    "        'widgetChoice': 'EXPANDED_HOTEL_REVIEW_HSX', # ???\n",
    "        'haveJses': 'earlyRequireDefine,amdearly,global_error,long_lived_global,apg-Hotel_Review,apg-Hotel_Review-in,bootstrap,desktop-rooms-guests-dust-en_US,responsive-calendar-templates-dust-en_US,taevents',\n",
    "        'haveCsses': 'apg-Hotel_Review-in',\n",
    "        'Action': 'install',\n",
    "    }\n",
    "\n",
    "    soup = post_soup(session, url, payload)\n",
    "\n",
    "    return soup\n",
    "\n",
    "def parse_reviews(session, url):\n",
    "    '''Get all reviews from one page'''\n",
    "\n",
    "    print('[parse_reviews] url:', url)\n",
    "\n",
    "    soup =  get_soup(session, url)\n",
    "\n",
    "    if not soup:\n",
    "        print('[parse_reviews] no soup:', url)\n",
    "        return\n",
    "\n",
    "    hotel_name = soup.find('h1', id='HEADING').text\n",
    "\n",
    "    reviews_ids = get_reviews_ids(soup)\n",
    "    if not reviews_ids:\n",
    "        return\n",
    "\n",
    "    soup = get_more(session, reviews_ids)\n",
    "\n",
    "    if not soup:\n",
    "        print('[parse_reviews] no soup:', url)\n",
    "        return\n",
    "\n",
    "    items = []\n",
    "\n",
    "    for idx, review in enumerate(soup.find_all('div', class_='reviewSelector')):\n",
    "\n",
    "        badgets = review.find_all('span', class_='badgetext')\n",
    "        if len(badgets) > 0:\n",
    "            contributions = badgets[0].text\n",
    "        else:\n",
    "            contributions = '0'\n",
    "\n",
    "        if len(badgets) > 1:\n",
    "            helpful_vote = badgets[1].text\n",
    "        else:\n",
    "            helpful_vote = '0'\n",
    "        user_loc = review.select_one('div.userLoc strong')\n",
    "        if user_loc:\n",
    "            user_loc = user_loc.text\n",
    "        else:\n",
    "            user_loc = ''\n",
    "\n",
    "        bubble_rating = review.select_one('span.ui_bubble_rating')['class']\n",
    "        bubble_rating = bubble_rating[1].split('_')[-1]\n",
    "\n",
    "        item = {\n",
    "            'review_body': review.find('p', class_='partial_entry').text,\n",
    "            'review_date': review.find('span', class_='ratingDate')['title'], # 'ratingDate' instead of 'relativeDate'\n",
    "        }\n",
    "\n",
    "        items.append(item)\n",
    "        print('\\n--- review ---\\n')\n",
    "        for key,val in item.items():\n",
    "            print(' ', key, ':', val)\n",
    "\n",
    "    print()\n",
    "\n",
    "    return items\n",
    "\n",
    "def write_in_csv(items, filename='results.csv',\n",
    "                  headers=['hotel name', 'review title', 'review body',\n",
    "                           'review date', 'contributions', 'helpful vote',\n",
    "                           'user name' , 'user location', 'rating'],\n",
    "                  mode='w'):\n",
    "\n",
    "    print('--- CSV ---')\n",
    "\n",
    "    with io.open(filename, mode, encoding=\"utf-8\") as csvfile:\n",
    "        csv_file = csv.DictWriter(csvfile, headers)\n",
    "\n",
    "        if mode == 'w':\n",
    "            csv_file.writeheader()\n",
    "\n",
    "        csv_file.writerows(items)\n"
   ]
  },
  {
   "cell_type": "code",
   "execution_count": 54,
   "metadata": {},
   "outputs": [],
   "source": [
    "soup = get_soup(session, url)"
   ]
  },
  {
   "cell_type": "code",
   "execution_count": 56,
   "metadata": {},
   "outputs": [
    {
     "name": "stdout",
     "output_type": "stream",
     "text": [
      "[parse] url_template: https://www.tripadvisor.com/Hotel_Review-g187147-d650135-Reviews-or{}-Le_Relais_des_Halles-Paris_Ile_de_France.html?filterLang=en\n"
     ]
    }
   ],
   "source": [
    "url_template = url.replace('Reviews-', 'Reviews-or{}-')\n",
    "print('[parse] url_template:', url_template)\n",
    "\n",
    "items = []\n"
   ]
  },
  {
   "cell_type": "code",
   "execution_count": 59,
   "metadata": {},
   "outputs": [
    {
     "name": "stdout",
     "output_type": "stream",
     "text": [
      "[get_reviews_ids] data-reviewid: ['815668689', '814724028', '808253378']\n"
     ]
    }
   ],
   "source": [
    "items = soup.find_all('div', attrs={'data-reviewid': True})\n",
    "\n",
    "if items:\n",
    "    reviews_ids = [x.attrs['data-reviewid'] for x in items][::2]\n",
    "    print('[get_reviews_ids] data-reviewid:', reviews_ids)\n",
    "    \n"
   ]
  },
  {
   "cell_type": "code",
   "execution_count": 62,
   "metadata": {},
   "outputs": [
    {
     "name": "stdout",
     "output_type": "stream",
     "text": [
      "[parse_reviews] url: https://www.tripadvisor.com/Hotel_Review-g187147-d650135-Reviews-Le_Relais_des_Halles-Paris_Ile_de_France.html?filterLang=en\n",
      "[get_reviews_ids] data-reviewid: ['815668689', '814724028', '808253378']\n"
     ]
    }
   ],
   "source": [
    "print('[parse_reviews] url:', url)\n",
    "\n",
    "soup =  get_soup(session, url)\n",
    "\n",
    "\n",
    "\n",
    "hotel_name = soup.find('h1', id='HEADING').text\n",
    "\n",
    "reviews_ids = get_reviews_ids(soup)"
   ]
  },
  {
   "cell_type": "code",
   "execution_count": 63,
   "metadata": {},
   "outputs": [],
   "source": [
    "for idx, review in enumerate(soup.find_all('div', class_='reviewSelector')):\n",
    "\n",
    "    badgets = review.find_all('span', class_='badgetext')\n",
    "    if len(badgets) > 0:\n",
    "        contributions = badgets[0].text\n",
    "    else:\n",
    "        contributions = '0'\n",
    "\n",
    "    if len(badgets) > 1:\n",
    "        helpful_vote = badgets[1].text\n",
    "    else:\n",
    "        helpful_vote = '0'\n",
    "    user_loc = review.select_one('div.userLoc strong')\n",
    "    if user_loc:\n",
    "        user_loc = user_loc.text\n",
    "    else:\n",
    "        user_loc = ''\n",
    "\n",
    "    bubble_rating = review.select_one('span.ui_bubble_rating')['class']\n",
    "    bubble_rating = bubble_rating[1].split('_')[-1]\n",
    "\n",
    "    item = {\n",
    "        'review_body': review.find('p', class_='partial_entry').text,\n",
    "        'review_date': review.find('span', class_='ratingDate')['title'], # 'ratingDate' instead of 'relativeDate'\n",
    "    }\n",
    "\n",
    "    items.append(item)\n",
    "    print('\\n--- review ---\\n')\n",
    "    for key,val in item.items():\n",
    "        print(' ', key, ':', val)"
   ]
  },
  {
   "cell_type": "code",
   "execution_count": 64,
   "metadata": {},
   "outputs": [
    {
     "data": {
      "text/plain": [
       "[<div class=\"cqoFv _T\" data-reviewid=\"815668689\"><div class=\"elFlG f O\"><div class=\"emWez F1\" data-test-target=\"review-rating\"><span class=\"ui_bubble_rating bubble_50\"></span></div></div><div class=\"fpMxB MC _S b S6 H5 _a\" data-test-target=\"review-title\" dir=\"ltr\"><a class=\"fCitC\" dir=\"\" href=\"/ShowUserReviews-g187147-d650135-r815668689-Le_Relais_des_Halles-Paris_Ile_de_France.html\"><span><span>Loved this hotel and location</span></span></a></div><div class=\"dovOW\"><div class=\"duhwe _T bOlcm dMbup\"><div class=\"pIRBV _T\" style=\"max-height:160px;line-break:normal;cursor:auto\"><q class=\"XllAv H4 _a\"><span>I have been to Paris several times and try to stay in a different area every time. So this trip I chose to stay in the first arrondissement. The location is a block from the Form les Halles and about 2 blocks from the Pompedieu Center. This made it super easy to get anywhere from the massive chatelet les halles metro station. You also can easily walk to Notre Dame, the Louvre and other sites. The room i stayed in a double room was very spacious be European and everything was updated and very nice. The staff, in particular, Farid were very helpful. The breakfast was good and they will make you an omelet. Really no negatives although took them a while to get the rooms cleaned, but minor in the big picture. I would definitely stay here again.</span></q></div><div class=\"eIVRK\"><div class=\"dlJyA\" data-test-target=\"expand-review\"><span class=\"eljVo _S Z\">Read more</span><span class=\"ui_icon caret-down zedZf\"></span></div></div></div><div class=\"bzjij\"><span class=\"euPKI _R Me S4 H3\"><span class=\"CrxzX\">Date of stay:</span> October 2021</span><span class=\"SELsE _\"><div class=\"cnFkU Me f\"><div class=\"fFwef S2 H2 cUidx\"><span class=\"YDXMO Nd\"><span class=\"ui_bubble_rating bubble_50\"></span></span><span>Rooms</span></div><div class=\"fFwef S2 H2 cUidx\"><span class=\"YDXMO Nd\"><span class=\"ui_bubble_rating bubble_50\"></span></span><span>Service</span></div><div class=\"fFwef S2 H2 cUidx\"><span class=\"YDXMO Nd\"><span class=\"ui_bubble_rating bubble_50\"></span></span><span>Sleep Quality</span></div></div></span></div><div class=\"euJzb\"><span class=\"DwnYB f _T Xd Y\"></span><div class=\"bLINs f _T Me z\"><span class=\"dNpHz f _T M _S\"><span class=\"ui_icon thumbs-up btimZ\"></span><span class=\"ui_link qgvJf\">Helpful</span></span><span class=\"bYeuv f\"><div><span><div class=\"bpxWy f _T M _S ezHcg\"><span><span class=\"ui_icon share cRDuN\"></span><span class=\"ui_link fWxYK socialCTA\">Share<!-- --> </span></span></div></span></div></span></div></div></div></div>,\n",
       " <div class=\"cqoFv _T\" data-reviewid=\"751380176\"><div class=\"ui_ribbon flat-right primary\">Hotel's Favorite</div><div class=\"elFlG f O\"><div class=\"emWez F1\" data-test-target=\"review-rating\"><span class=\"ui_bubble_rating bubble_50\"></span></div></div><div class=\"fpMxB MC _S b S6 H5 _a\" data-test-target=\"review-title\" dir=\"ltr\"><a class=\"fCitC\" dir=\"\" href=\"/ShowUserReviews-g187147-d650135-r751380176-Le_Relais_des_Halles-Paris_Ile_de_France.html\"><span><span>The Perfect Hotel</span></span></a></div><div class=\"dovOW\"><div class=\"duhwe _T bOlcm dMbup\"><div class=\"pIRBV _T\" style=\"max-height:160px;line-break:normal;cursor:auto\"><q class=\"XllAv H4 _a\"><span>We had the best stay at this hotel.  Cannot fault it.  Everything was perfect, even when Paris went into lockdown due to Covid-19 they were helpful.  It's the best location possible with easy access to the metro and plenty of places to walk to.  We will definiately stay here again should we visit Paris again.</span></q></div><div class=\"eIVRK\"><div class=\"dlJyA\" data-test-target=\"expand-review\"><span class=\"eljVo _S Z\">Read more</span><span class=\"ui_icon caret-down zedZf\"></span></div></div></div><div class=\"fSKYy o Md S2\">Review collected in partnership with this hotel<div class=\"cNlBc\"><span class=\"ui_icon information-circle eBvVs\"></span></div></div><div class=\"bzjij\"><span class=\"euPKI _R Me S4 H3\"><span class=\"CrxzX\">Date of stay:</span> March 2020</span><span class=\"SELsE _\"><div class=\"cnFkU Me f\"><div class=\"fFwef S2 H2 cUidx\"><span class=\"YDXMO Nd\"><span class=\"ui_bubble_rating bubble_40\"></span></span><span>Value</span></div><div class=\"fFwef S2 H2 cUidx\"><span class=\"YDXMO Nd\"><span class=\"ui_bubble_rating bubble_50\"></span></span><span>Rooms</span></div><div class=\"fFwef S2 H2 cUidx\"><span class=\"YDXMO Nd\"><span class=\"ui_bubble_rating bubble_50\"></span></span><span>Location</span></div><div class=\"fFwef S2 H2 cUidx\"><span class=\"YDXMO Nd\"><span class=\"ui_bubble_rating bubble_50\"></span></span><span>Cleanliness</span></div><div class=\"fFwef S2 H2 cUidx\"><span class=\"YDXMO Nd\"><span class=\"ui_bubble_rating bubble_50\"></span></span><span>Service</span></div><div class=\"fFwef S2 H2 cUidx\"><span class=\"YDXMO Nd\"><span class=\"ui_bubble_rating bubble_50\"></span></span><span>Sleep Quality</span></div></div><div class=\"djxMz Pb\"><span class=\"OxReW b\">Room Tip:</span> <span>Just enjoy - everything is catered for.</span></div><div class=\"taLnk tJPDr Md Nb MC NC\">See more room tips</div></span></div><div class=\"euJzb\"><span class=\"DwnYB f _T Xd Y buUyu\"><span class=\"ekLsQ S2 H2 Ch bzShB\">1 Helpful vote</span></span><div class=\"bLINs f _T Me z\"><span class=\"dNpHz f _T M _S\"><span class=\"ui_icon thumbs-up btimZ\"></span><span class=\"ui_link qgvJf\">Helpful</span></span><span class=\"bYeuv f\"><div><span><div class=\"bpxWy f _T M _S ezHcg\"><span><span class=\"ui_icon share cRDuN\"></span><span class=\"ui_link fWxYK socialCTA\">Share<!-- --> </span></span></div></span></div></span></div></div><div class=\"fWXSz\"><div class=\"cQDro\"><div class=\"svvjk Rb I o fknJY\"><svg aria-label=\"\" height=\"32\" viewbox=\"0 0 120 120\" width=\"32\"><rect class=\"bObhd\" height=\"120\" width=\"120\" x=\"0\" y=\"0\"></rect><circle class=\"ctRcq\" cx=\"59.101\" cy=\"53.731\" r=\"26.866\"></circle><circle class=\"dTEmx\" cx=\"58.408\" cy=\"131.846\" r=\"51.25\"></circle></svg></div></div><div><div class=\"fKqeL n\">Response from Eloïse Lefebvre, Service clients/Réception at Le Relais des Halles<div class=\"mzAim\" title=\"2020-09-27\">Responded Sep 27, 2020</div></div><div class=\"duhwe _T bOlcm dMbup\"><div class=\"pIRBV _T\" style=\"max-height:20px;line-break:normal;cursor:auto\"><span class=\"eBsXT _a\"><span>Dear Guest, We thank you very much for this nice comment. It makes us happy to read that you hade a nice stay despite the condition at this time. We are lucky to have a great location to offered an easy access from many places. We would be glad to welcome you again :) Best regards, Eloïse</span></span></div><div class=\"eIVRK\"><div class=\"fQLRX\"><span class=\"pKHzN _S\">Read more</span><span class=\"ui_icon caret-down cnTXr\"></span></div></div></div></div><div class=\"fjfBT\"><div class=\"overflow\"><span class=\"fZuPO NF S8 _S fHtTy\"><svg class=\"fecdL d Vb wQMPa\" height=\"1em\" viewbox=\"0 0 24 24\" width=\"1em\" x=\"0\" y=\"0\"><circle cx=\"4.5\" cy=\"11.9\" r=\"2.5\"></circle><circle cx=\"19.5\" cy=\"11.9\" r=\"2.5\"></circle><circle cx=\"12\" cy=\"11.9\" r=\"2.5\"></circle></svg></span></div><span class=\"cRFAF _m\"></span></div></div></div></div>,\n",
       " <div class=\"cqoFv _T\" data-reviewid=\"814724028\"><div class=\"elFlG f O\"><div class=\"emWez F1\" data-test-target=\"review-rating\"><span class=\"ui_bubble_rating bubble_50\"></span></div></div><div class=\"fpMxB MC _S b S6 H5 _a\" data-test-target=\"review-title\" dir=\"ltr\"><a class=\"fCitC\" dir=\"\" href=\"/ShowUserReviews-g187147-d650135-r814724028-Le_Relais_des_Halles-Paris_Ile_de_France.html\"><span><span>A little jewel in the hearth of Paris</span></span></a></div><div class=\"dovOW\"><div class=\"duhwe _T bOlcm dMbup\"><div class=\"pIRBV _T\" style=\"max-height:160px;line-break:normal;cursor:auto\"><q class=\"XllAv H4 _a\"><span>This hotel is so exquisite along the management and all member of the staff.  It feels like a boutique hotel, the attention to details are impeccable, along the cleanness and the interior .  All team ensure you are welcome and they do whatever it takes to make your stay enjoyable.  For us Simply The Best! The location is fantastic to reach and is near to the most iconic part of Paris.  Highly Recommended. </span></q></div><div class=\"eIVRK\"><div class=\"dlJyA\" data-test-target=\"expand-review\"><span class=\"eljVo _S Z\">Read more</span><span class=\"ui_icon caret-down zedZf\"></span></div></div></div><div class=\"fSKYy o Md S2\">Review collected in partnership with this hotel<div class=\"cNlBc\"><span class=\"ui_icon information-circle eBvVs\"></span></div></div><div class=\"bzjij\"><span class=\"euPKI _R Me S4 H3\"><span class=\"CrxzX\">Date of stay:</span> January 2021</span><span class=\"SELsE _\"><div class=\"cnFkU Me f\"><div class=\"fFwef S2 H2 cUidx\"><span class=\"YDXMO Nd\"><span class=\"ui_bubble_rating bubble_50\"></span></span><span>Value</span></div><div class=\"fFwef S2 H2 cUidx\"><span class=\"YDXMO Nd\"><span class=\"ui_bubble_rating bubble_50\"></span></span><span>Rooms</span></div><div class=\"fFwef S2 H2 cUidx\"><span class=\"YDXMO Nd\"><span class=\"ui_bubble_rating bubble_50\"></span></span><span>Location</span></div><div class=\"fFwef S2 H2 cUidx\"><span class=\"YDXMO Nd\"><span class=\"ui_bubble_rating bubble_50\"></span></span><span>Cleanliness</span></div><div class=\"fFwef S2 H2 cUidx\"><span class=\"YDXMO Nd\"><span class=\"ui_bubble_rating bubble_50\"></span></span><span>Sleep Quality</span></div></div></span></div><div class=\"euJzb\"><span class=\"DwnYB f _T Xd Y\"></span><div class=\"bLINs f _T Me z\"><span class=\"dNpHz f _T M _S\"><span class=\"ui_icon thumbs-up btimZ\"></span><span class=\"ui_link qgvJf\">Helpful</span></span><span class=\"bYeuv f\"><div><span><div class=\"bpxWy f _T M _S ezHcg\"><span><span class=\"ui_icon share cRDuN\"></span><span class=\"ui_link fWxYK socialCTA\">Share<!-- --> </span></span></div></span></div></span></div></div></div></div>,\n",
       " <div class=\"cqoFv _T\" data-reviewid=\"809604318\"><div class=\"elFlG f O\"><div class=\"emWez F1\" data-test-target=\"review-rating\"><span class=\"ui_bubble_rating bubble_50\"></span></div></div><div class=\"fpMxB MC _S b S6 H5 _a\" data-test-target=\"review-title\" dir=\"ltr\"><a class=\"fCitC\" dir=\"\" href=\"/ShowUserReviews-g187147-d650135-r809604318-Le_Relais_des_Halles-Paris_Ile_de_France.html\"><span><span>Truly a gem of a hotel!</span></span></a></div><div class=\"dovOW\"><div class=\"duhwe _T bOlcm dMbup\"><div class=\"pIRBV _T\" style=\"max-height:160px;line-break:normal;cursor:auto\"><q class=\"XllAv H4 _a\"><span>My favorite hotel in Paris.  Reception is very helpful, and everything about the hotel is tasteful and pleasant. Location on a pedestrian street makes the area great for people watching from the nearby cafes. </span></q></div><div class=\"eIVRK\"><div class=\"dlJyA\" data-test-target=\"expand-review\"><span class=\"eljVo _S Z\">Read more</span><span class=\"ui_icon caret-down zedZf\"></span></div></div></div><div class=\"fSKYy o Md S2\">Review collected in partnership with this hotel<div class=\"cNlBc\"><span class=\"ui_icon information-circle eBvVs\"></span></div></div><div class=\"bzjij\"><span class=\"euPKI _R Me S4 H3\"><span class=\"CrxzX\">Date of stay:</span> September 2021</span><span class=\"SELsE _\"><div class=\"cnFkU Me f\"><div class=\"fFwef S2 H2 cUidx\"><span class=\"YDXMO Nd\"><span class=\"ui_bubble_rating bubble_50\"></span></span><span>Value</span></div><div class=\"fFwef S2 H2 cUidx\"><span class=\"YDXMO Nd\"><span class=\"ui_bubble_rating bubble_50\"></span></span><span>Rooms</span></div><div class=\"fFwef S2 H2 cUidx\"><span class=\"YDXMO Nd\"><span class=\"ui_bubble_rating bubble_50\"></span></span><span>Location</span></div><div class=\"fFwef S2 H2 cUidx\"><span class=\"YDXMO Nd\"><span class=\"ui_bubble_rating bubble_50\"></span></span><span>Cleanliness</span></div><div class=\"fFwef S2 H2 cUidx\"><span class=\"YDXMO Nd\"><span class=\"ui_bubble_rating bubble_50\"></span></span><span>Service</span></div><div class=\"fFwef S2 H2 cUidx\"><span class=\"YDXMO Nd\"><span class=\"ui_bubble_rating bubble_50\"></span></span><span>Sleep Quality</span></div></div><span class=\"eHSjO _R Me\"><span class=\"trip_type_label\">Trip type: </span>Traveled with friends</span></span></div><div class=\"euJzb\"><span class=\"DwnYB f _T Xd Y\"></span><div class=\"bLINs f _T Me z\"><span class=\"dNpHz f _T M _S\"><span class=\"ui_icon thumbs-up btimZ\"></span><span class=\"ui_link qgvJf\">Helpful</span></span><span class=\"bYeuv f\"><div><span><div class=\"bpxWy f _T M _S ezHcg\"><span><span class=\"ui_icon share cRDuN\"></span><span class=\"ui_link fWxYK socialCTA\">Share<!-- --> </span></span></div></span></div></span></div></div><div class=\"fWXSz\"><div class=\"cQDro\"><div class=\"svvjk Rb I o fknJY\"><svg aria-label=\"\" height=\"32\" viewbox=\"0 0 120 120\" width=\"32\"><rect class=\"bObhd\" height=\"120\" width=\"120\" x=\"0\" y=\"0\"></rect><circle class=\"ctRcq\" cx=\"59.101\" cy=\"53.731\" r=\"26.866\"></circle><circle class=\"dTEmx\" cx=\"58.408\" cy=\"131.846\" r=\"51.25\"></circle></svg></div></div><div><div class=\"fKqeL n\">Response from Eloïse Lefebvre, Service clients/Réception at Le Relais des Halles<div class=\"mzAim\" title=\"2021-10-07\">Responded 2 weeks ago</div></div><div class=\"duhwe _T bOlcm dMbup\"><div class=\"pIRBV _T\" style=\"max-height:20px;line-break:normal;cursor:auto\"><span class=\"eBsXT _a\"><span>Dear Joan, It is a pleasure to read your comment and we are glad to know that you had a pleasant stay in Le Relais des Halles. Indeed, the hotel is located in a pedestrian street in the center of Paris, with great cafes to seat by. We look forward to welcome you again. Best regards, Eloïse</span></span></div><div class=\"eIVRK\"><div class=\"fQLRX\"><span class=\"pKHzN _S\">Read more</span><span class=\"ui_icon caret-down cnTXr\"></span></div></div></div></div><div class=\"fjfBT\"><div class=\"overflow\"><span class=\"fZuPO NF S8 _S fHtTy\"><svg class=\"fecdL d Vb wQMPa\" height=\"1em\" viewbox=\"0 0 24 24\" width=\"1em\" x=\"0\" y=\"0\"><circle cx=\"4.5\" cy=\"11.9\" r=\"2.5\"></circle><circle cx=\"19.5\" cy=\"11.9\" r=\"2.5\"></circle><circle cx=\"12\" cy=\"11.9\" r=\"2.5\"></circle></svg></span></div><span class=\"cRFAF _m\"></span></div></div></div></div>,\n",
       " <div class=\"cqoFv _T\" data-reviewid=\"808253378\"><div class=\"elFlG f O\"><div class=\"emWez F1\" data-test-target=\"review-rating\"><span class=\"ui_bubble_rating bubble_50\"></span></div></div><div class=\"fpMxB MC _S b S6 H5 _a\" data-test-target=\"review-title\" dir=\"ltr\"><a class=\"fCitC\" dir=\"\" href=\"/ShowUserReviews-g187147-d650135-r808253378-Le_Relais_des_Halles-Paris_Ile_de_France.html\"><span><span>Great find in an unbeatable location</span></span></a></div><div class=\"dovOW\"><div class=\"duhwe _T bOlcm dMbup\"><div class=\"pIRBV _T\" style=\"max-height:160px;line-break:normal;cursor:auto\"><q class=\"XllAv H4 _a\"><span>Very happy with my stay at the Relais des Halles. The location is truly exceptional, with easy access to the sights on foot or via subway, and to the airport via RER train. Neighborhood is very lively, and I felt very safe walking alone at night. My room was tiny but very well appointed and charming. The bathroom was large and well equipped, with great water pressure. Closet capacity was very good. What really caught my attention were the in-room amenities: a powerful stand-alone hair dryer, good quality toiletries,  an expresso machine and electric kettle with plenty of supplies. Breakfast was yummy if a bit pricy.</span></q></div><div class=\"eIVRK\"><div class=\"dlJyA\" data-test-target=\"expand-review\"><span class=\"eljVo _S Z\">Read more</span><span class=\"ui_icon caret-down zedZf\"></span></div></div></div><div class=\"fSKYy o Md S2\">Review collected in partnership with this hotel<div class=\"cNlBc\"><span class=\"ui_icon information-circle eBvVs\"></span></div></div><div class=\"bzjij\"><span class=\"euPKI _R Me S4 H3\"><span class=\"CrxzX\">Date of stay:</span> August 2021</span><span class=\"SELsE _\"><div class=\"cnFkU Me f\"><div class=\"fFwef S2 H2 cUidx\"><span class=\"YDXMO Nd\"><span class=\"ui_bubble_rating bubble_50\"></span></span><span>Value</span></div><div class=\"fFwef S2 H2 cUidx\"><span class=\"YDXMO Nd\"><span class=\"ui_bubble_rating bubble_50\"></span></span><span>Rooms</span></div><div class=\"fFwef S2 H2 cUidx\"><span class=\"YDXMO Nd\"><span class=\"ui_bubble_rating bubble_50\"></span></span><span>Location</span></div><div class=\"fFwef S2 H2 cUidx\"><span class=\"YDXMO Nd\"><span class=\"ui_bubble_rating bubble_50\"></span></span><span>Cleanliness</span></div><div class=\"fFwef S2 H2 cUidx\"><span class=\"YDXMO Nd\"><span class=\"ui_bubble_rating bubble_40\"></span></span><span>Service</span></div><div class=\"fFwef S2 H2 cUidx\"><span class=\"YDXMO Nd\"><span class=\"ui_bubble_rating bubble_50\"></span></span><span>Sleep Quality</span></div></div><span class=\"eHSjO _R Me\"><span class=\"trip_type_label\">Trip type: </span>Traveled solo</span></span></div><div class=\"euJzb\"><span class=\"DwnYB f _T Xd Y\"></span><div class=\"bLINs f _T Me z\"><span class=\"dNpHz f _T M _S\"><span class=\"ui_icon thumbs-up btimZ\"></span><span class=\"ui_link qgvJf\">Helpful</span></span><span class=\"bYeuv f\"><div><span><div class=\"bpxWy f _T M _S ezHcg\"><span><span class=\"ui_icon share cRDuN\"></span><span class=\"ui_link fWxYK socialCTA\">Share<!-- --> </span></span></div></span></div></span></div></div><div class=\"fWXSz\"><div class=\"cQDro\"><div class=\"svvjk Rb I o fknJY\"><svg aria-label=\"\" height=\"32\" viewbox=\"0 0 120 120\" width=\"32\"><rect class=\"bObhd\" height=\"120\" width=\"120\" x=\"0\" y=\"0\"></rect><circle class=\"ctRcq\" cx=\"59.101\" cy=\"53.731\" r=\"26.866\"></circle><circle class=\"dTEmx\" cx=\"58.408\" cy=\"131.846\" r=\"51.25\"></circle></svg></div></div><div><div class=\"fKqeL n\">Response from Eloïse Lefebvre, Service clients/Réception at Le Relais des Halles<div class=\"mzAim\" title=\"2021-10-07\">Responded 2 weeks ago</div></div><div class=\"duhwe _T bOlcm dMbup\"><div class=\"pIRBV _T\" style=\"max-height:20px;line-break:normal;cursor:auto\"><span class=\"eBsXT _a\"><span>Dear Guest, We thank you very much for the time taken to leave a comment and we are delighted to read that you had a great stay in Le Relais des Halles. Indeed, we are lucky to be located right next to the subway station in the center of Paris, convenient to take the RER. We are happy that you appreciated your room and the amenities as well as the breakfast, it is very important for us to offer the best service. We hope to have the pleasure to welcome you again. Best regards, Eloïse</span></span></div><div class=\"eIVRK\"><div class=\"fQLRX\"><span class=\"pKHzN _S\">Read more</span><span class=\"ui_icon caret-down cnTXr\"></span></div></div></div></div><div class=\"fjfBT\"><div class=\"overflow\"><span class=\"fZuPO NF S8 _S fHtTy\"><svg class=\"fecdL d Vb wQMPa\" height=\"1em\" viewbox=\"0 0 24 24\" width=\"1em\" x=\"0\" y=\"0\"><circle cx=\"4.5\" cy=\"11.9\" r=\"2.5\"></circle><circle cx=\"19.5\" cy=\"11.9\" r=\"2.5\"></circle><circle cx=\"12\" cy=\"11.9\" r=\"2.5\"></circle></svg></span></div><span class=\"cRFAF _m\"></span></div></div></div></div>]"
      ]
     },
     "execution_count": 64,
     "metadata": {},
     "output_type": "execute_result"
    }
   ],
   "source": [
    "items"
   ]
  },
  {
   "cell_type": "code",
   "execution_count": 66,
   "metadata": {},
   "outputs": [],
   "source": [
    "headers=['hotel name', 'review title', 'review body',\n",
    "                           'review date', 'contributions', 'helpful vote',\n",
    "                           'user name' , 'user location', 'rating']"
   ]
  },
  {
   "cell_type": "code",
   "execution_count": 69,
   "metadata": {},
   "outputs": [
    {
     "data": {
      "text/plain": [
       "[<div class=\"cqoFv _T\" data-reviewid=\"815668689\"><div class=\"elFlG f O\"><div class=\"emWez F1\" data-test-target=\"review-rating\"><span class=\"ui_bubble_rating bubble_50\"></span></div></div><div class=\"fpMxB MC _S b S6 H5 _a\" data-test-target=\"review-title\" dir=\"ltr\"><a class=\"fCitC\" dir=\"\" href=\"/ShowUserReviews-g187147-d650135-r815668689-Le_Relais_des_Halles-Paris_Ile_de_France.html\"><span><span>Loved this hotel and location</span></span></a></div><div class=\"dovOW\"><div class=\"duhwe _T bOlcm dMbup\"><div class=\"pIRBV _T\" style=\"max-height:160px;line-break:normal;cursor:auto\"><q class=\"XllAv H4 _a\"><span>I have been to Paris several times and try to stay in a different area every time. So this trip I chose to stay in the first arrondissement. The location is a block from the Form les Halles and about 2 blocks from the Pompedieu Center. This made it super easy to get anywhere from the massive chatelet les halles metro station. You also can easily walk to Notre Dame, the Louvre and other sites. The room i stayed in a double room was very spacious be European and everything was updated and very nice. The staff, in particular, Farid were very helpful. The breakfast was good and they will make you an omelet. Really no negatives although took them a while to get the rooms cleaned, but minor in the big picture. I would definitely stay here again.</span></q></div><div class=\"eIVRK\"><div class=\"dlJyA\" data-test-target=\"expand-review\"><span class=\"eljVo _S Z\">Read more</span><span class=\"ui_icon caret-down zedZf\"></span></div></div></div><div class=\"bzjij\"><span class=\"euPKI _R Me S4 H3\"><span class=\"CrxzX\">Date of stay:</span> October 2021</span><span class=\"SELsE _\"><div class=\"cnFkU Me f\"><div class=\"fFwef S2 H2 cUidx\"><span class=\"YDXMO Nd\"><span class=\"ui_bubble_rating bubble_50\"></span></span><span>Rooms</span></div><div class=\"fFwef S2 H2 cUidx\"><span class=\"YDXMO Nd\"><span class=\"ui_bubble_rating bubble_50\"></span></span><span>Service</span></div><div class=\"fFwef S2 H2 cUidx\"><span class=\"YDXMO Nd\"><span class=\"ui_bubble_rating bubble_50\"></span></span><span>Sleep Quality</span></div></div></span></div><div class=\"euJzb\"><span class=\"DwnYB f _T Xd Y\"></span><div class=\"bLINs f _T Me z\"><span class=\"dNpHz f _T M _S\"><span class=\"ui_icon thumbs-up btimZ\"></span><span class=\"ui_link qgvJf\">Helpful</span></span><span class=\"bYeuv f\"><div><span><div class=\"bpxWy f _T M _S ezHcg\"><span><span class=\"ui_icon share cRDuN\"></span><span class=\"ui_link fWxYK socialCTA\">Share<!-- --> </span></span></div></span></div></span></div></div></div></div>,\n",
       " <div class=\"cqoFv _T\" data-reviewid=\"751380176\"><div class=\"ui_ribbon flat-right primary\">Hotel's Favorite</div><div class=\"elFlG f O\"><div class=\"emWez F1\" data-test-target=\"review-rating\"><span class=\"ui_bubble_rating bubble_50\"></span></div></div><div class=\"fpMxB MC _S b S6 H5 _a\" data-test-target=\"review-title\" dir=\"ltr\"><a class=\"fCitC\" dir=\"\" href=\"/ShowUserReviews-g187147-d650135-r751380176-Le_Relais_des_Halles-Paris_Ile_de_France.html\"><span><span>The Perfect Hotel</span></span></a></div><div class=\"dovOW\"><div class=\"duhwe _T bOlcm dMbup\"><div class=\"pIRBV _T\" style=\"max-height:160px;line-break:normal;cursor:auto\"><q class=\"XllAv H4 _a\"><span>We had the best stay at this hotel.  Cannot fault it.  Everything was perfect, even when Paris went into lockdown due to Covid-19 they were helpful.  It's the best location possible with easy access to the metro and plenty of places to walk to.  We will definiately stay here again should we visit Paris again.</span></q></div><div class=\"eIVRK\"><div class=\"dlJyA\" data-test-target=\"expand-review\"><span class=\"eljVo _S Z\">Read more</span><span class=\"ui_icon caret-down zedZf\"></span></div></div></div><div class=\"fSKYy o Md S2\">Review collected in partnership with this hotel<div class=\"cNlBc\"><span class=\"ui_icon information-circle eBvVs\"></span></div></div><div class=\"bzjij\"><span class=\"euPKI _R Me S4 H3\"><span class=\"CrxzX\">Date of stay:</span> March 2020</span><span class=\"SELsE _\"><div class=\"cnFkU Me f\"><div class=\"fFwef S2 H2 cUidx\"><span class=\"YDXMO Nd\"><span class=\"ui_bubble_rating bubble_40\"></span></span><span>Value</span></div><div class=\"fFwef S2 H2 cUidx\"><span class=\"YDXMO Nd\"><span class=\"ui_bubble_rating bubble_50\"></span></span><span>Rooms</span></div><div class=\"fFwef S2 H2 cUidx\"><span class=\"YDXMO Nd\"><span class=\"ui_bubble_rating bubble_50\"></span></span><span>Location</span></div><div class=\"fFwef S2 H2 cUidx\"><span class=\"YDXMO Nd\"><span class=\"ui_bubble_rating bubble_50\"></span></span><span>Cleanliness</span></div><div class=\"fFwef S2 H2 cUidx\"><span class=\"YDXMO Nd\"><span class=\"ui_bubble_rating bubble_50\"></span></span><span>Service</span></div><div class=\"fFwef S2 H2 cUidx\"><span class=\"YDXMO Nd\"><span class=\"ui_bubble_rating bubble_50\"></span></span><span>Sleep Quality</span></div></div><div class=\"djxMz Pb\"><span class=\"OxReW b\">Room Tip:</span> <span>Just enjoy - everything is catered for.</span></div><div class=\"taLnk tJPDr Md Nb MC NC\">See more room tips</div></span></div><div class=\"euJzb\"><span class=\"DwnYB f _T Xd Y buUyu\"><span class=\"ekLsQ S2 H2 Ch bzShB\">1 Helpful vote</span></span><div class=\"bLINs f _T Me z\"><span class=\"dNpHz f _T M _S\"><span class=\"ui_icon thumbs-up btimZ\"></span><span class=\"ui_link qgvJf\">Helpful</span></span><span class=\"bYeuv f\"><div><span><div class=\"bpxWy f _T M _S ezHcg\"><span><span class=\"ui_icon share cRDuN\"></span><span class=\"ui_link fWxYK socialCTA\">Share<!-- --> </span></span></div></span></div></span></div></div><div class=\"fWXSz\"><div class=\"cQDro\"><div class=\"svvjk Rb I o fknJY\"><svg aria-label=\"\" height=\"32\" viewbox=\"0 0 120 120\" width=\"32\"><rect class=\"bObhd\" height=\"120\" width=\"120\" x=\"0\" y=\"0\"></rect><circle class=\"ctRcq\" cx=\"59.101\" cy=\"53.731\" r=\"26.866\"></circle><circle class=\"dTEmx\" cx=\"58.408\" cy=\"131.846\" r=\"51.25\"></circle></svg></div></div><div><div class=\"fKqeL n\">Response from Eloïse Lefebvre, Service clients/Réception at Le Relais des Halles<div class=\"mzAim\" title=\"2020-09-27\">Responded Sep 27, 2020</div></div><div class=\"duhwe _T bOlcm dMbup\"><div class=\"pIRBV _T\" style=\"max-height:20px;line-break:normal;cursor:auto\"><span class=\"eBsXT _a\"><span>Dear Guest, We thank you very much for this nice comment. It makes us happy to read that you hade a nice stay despite the condition at this time. We are lucky to have a great location to offered an easy access from many places. We would be glad to welcome you again :) Best regards, Eloïse</span></span></div><div class=\"eIVRK\"><div class=\"fQLRX\"><span class=\"pKHzN _S\">Read more</span><span class=\"ui_icon caret-down cnTXr\"></span></div></div></div></div><div class=\"fjfBT\"><div class=\"overflow\"><span class=\"fZuPO NF S8 _S fHtTy\"><svg class=\"fecdL d Vb wQMPa\" height=\"1em\" viewbox=\"0 0 24 24\" width=\"1em\" x=\"0\" y=\"0\"><circle cx=\"4.5\" cy=\"11.9\" r=\"2.5\"></circle><circle cx=\"19.5\" cy=\"11.9\" r=\"2.5\"></circle><circle cx=\"12\" cy=\"11.9\" r=\"2.5\"></circle></svg></span></div><span class=\"cRFAF _m\"></span></div></div></div></div>,\n",
       " <div class=\"cqoFv _T\" data-reviewid=\"814724028\"><div class=\"elFlG f O\"><div class=\"emWez F1\" data-test-target=\"review-rating\"><span class=\"ui_bubble_rating bubble_50\"></span></div></div><div class=\"fpMxB MC _S b S6 H5 _a\" data-test-target=\"review-title\" dir=\"ltr\"><a class=\"fCitC\" dir=\"\" href=\"/ShowUserReviews-g187147-d650135-r814724028-Le_Relais_des_Halles-Paris_Ile_de_France.html\"><span><span>A little jewel in the hearth of Paris</span></span></a></div><div class=\"dovOW\"><div class=\"duhwe _T bOlcm dMbup\"><div class=\"pIRBV _T\" style=\"max-height:160px;line-break:normal;cursor:auto\"><q class=\"XllAv H4 _a\"><span>This hotel is so exquisite along the management and all member of the staff.  It feels like a boutique hotel, the attention to details are impeccable, along the cleanness and the interior .  All team ensure you are welcome and they do whatever it takes to make your stay enjoyable.  For us Simply The Best! The location is fantastic to reach and is near to the most iconic part of Paris.  Highly Recommended. </span></q></div><div class=\"eIVRK\"><div class=\"dlJyA\" data-test-target=\"expand-review\"><span class=\"eljVo _S Z\">Read more</span><span class=\"ui_icon caret-down zedZf\"></span></div></div></div><div class=\"fSKYy o Md S2\">Review collected in partnership with this hotel<div class=\"cNlBc\"><span class=\"ui_icon information-circle eBvVs\"></span></div></div><div class=\"bzjij\"><span class=\"euPKI _R Me S4 H3\"><span class=\"CrxzX\">Date of stay:</span> January 2021</span><span class=\"SELsE _\"><div class=\"cnFkU Me f\"><div class=\"fFwef S2 H2 cUidx\"><span class=\"YDXMO Nd\"><span class=\"ui_bubble_rating bubble_50\"></span></span><span>Value</span></div><div class=\"fFwef S2 H2 cUidx\"><span class=\"YDXMO Nd\"><span class=\"ui_bubble_rating bubble_50\"></span></span><span>Rooms</span></div><div class=\"fFwef S2 H2 cUidx\"><span class=\"YDXMO Nd\"><span class=\"ui_bubble_rating bubble_50\"></span></span><span>Location</span></div><div class=\"fFwef S2 H2 cUidx\"><span class=\"YDXMO Nd\"><span class=\"ui_bubble_rating bubble_50\"></span></span><span>Cleanliness</span></div><div class=\"fFwef S2 H2 cUidx\"><span class=\"YDXMO Nd\"><span class=\"ui_bubble_rating bubble_50\"></span></span><span>Sleep Quality</span></div></div></span></div><div class=\"euJzb\"><span class=\"DwnYB f _T Xd Y\"></span><div class=\"bLINs f _T Me z\"><span class=\"dNpHz f _T M _S\"><span class=\"ui_icon thumbs-up btimZ\"></span><span class=\"ui_link qgvJf\">Helpful</span></span><span class=\"bYeuv f\"><div><span><div class=\"bpxWy f _T M _S ezHcg\"><span><span class=\"ui_icon share cRDuN\"></span><span class=\"ui_link fWxYK socialCTA\">Share<!-- --> </span></span></div></span></div></span></div></div></div></div>,\n",
       " <div class=\"cqoFv _T\" data-reviewid=\"809604318\"><div class=\"elFlG f O\"><div class=\"emWez F1\" data-test-target=\"review-rating\"><span class=\"ui_bubble_rating bubble_50\"></span></div></div><div class=\"fpMxB MC _S b S6 H5 _a\" data-test-target=\"review-title\" dir=\"ltr\"><a class=\"fCitC\" dir=\"\" href=\"/ShowUserReviews-g187147-d650135-r809604318-Le_Relais_des_Halles-Paris_Ile_de_France.html\"><span><span>Truly a gem of a hotel!</span></span></a></div><div class=\"dovOW\"><div class=\"duhwe _T bOlcm dMbup\"><div class=\"pIRBV _T\" style=\"max-height:160px;line-break:normal;cursor:auto\"><q class=\"XllAv H4 _a\"><span>My favorite hotel in Paris.  Reception is very helpful, and everything about the hotel is tasteful and pleasant. Location on a pedestrian street makes the area great for people watching from the nearby cafes. </span></q></div><div class=\"eIVRK\"><div class=\"dlJyA\" data-test-target=\"expand-review\"><span class=\"eljVo _S Z\">Read more</span><span class=\"ui_icon caret-down zedZf\"></span></div></div></div><div class=\"fSKYy o Md S2\">Review collected in partnership with this hotel<div class=\"cNlBc\"><span class=\"ui_icon information-circle eBvVs\"></span></div></div><div class=\"bzjij\"><span class=\"euPKI _R Me S4 H3\"><span class=\"CrxzX\">Date of stay:</span> September 2021</span><span class=\"SELsE _\"><div class=\"cnFkU Me f\"><div class=\"fFwef S2 H2 cUidx\"><span class=\"YDXMO Nd\"><span class=\"ui_bubble_rating bubble_50\"></span></span><span>Value</span></div><div class=\"fFwef S2 H2 cUidx\"><span class=\"YDXMO Nd\"><span class=\"ui_bubble_rating bubble_50\"></span></span><span>Rooms</span></div><div class=\"fFwef S2 H2 cUidx\"><span class=\"YDXMO Nd\"><span class=\"ui_bubble_rating bubble_50\"></span></span><span>Location</span></div><div class=\"fFwef S2 H2 cUidx\"><span class=\"YDXMO Nd\"><span class=\"ui_bubble_rating bubble_50\"></span></span><span>Cleanliness</span></div><div class=\"fFwef S2 H2 cUidx\"><span class=\"YDXMO Nd\"><span class=\"ui_bubble_rating bubble_50\"></span></span><span>Service</span></div><div class=\"fFwef S2 H2 cUidx\"><span class=\"YDXMO Nd\"><span class=\"ui_bubble_rating bubble_50\"></span></span><span>Sleep Quality</span></div></div><span class=\"eHSjO _R Me\"><span class=\"trip_type_label\">Trip type: </span>Traveled with friends</span></span></div><div class=\"euJzb\"><span class=\"DwnYB f _T Xd Y\"></span><div class=\"bLINs f _T Me z\"><span class=\"dNpHz f _T M _S\"><span class=\"ui_icon thumbs-up btimZ\"></span><span class=\"ui_link qgvJf\">Helpful</span></span><span class=\"bYeuv f\"><div><span><div class=\"bpxWy f _T M _S ezHcg\"><span><span class=\"ui_icon share cRDuN\"></span><span class=\"ui_link fWxYK socialCTA\">Share<!-- --> </span></span></div></span></div></span></div></div><div class=\"fWXSz\"><div class=\"cQDro\"><div class=\"svvjk Rb I o fknJY\"><svg aria-label=\"\" height=\"32\" viewbox=\"0 0 120 120\" width=\"32\"><rect class=\"bObhd\" height=\"120\" width=\"120\" x=\"0\" y=\"0\"></rect><circle class=\"ctRcq\" cx=\"59.101\" cy=\"53.731\" r=\"26.866\"></circle><circle class=\"dTEmx\" cx=\"58.408\" cy=\"131.846\" r=\"51.25\"></circle></svg></div></div><div><div class=\"fKqeL n\">Response from Eloïse Lefebvre, Service clients/Réception at Le Relais des Halles<div class=\"mzAim\" title=\"2021-10-07\">Responded 2 weeks ago</div></div><div class=\"duhwe _T bOlcm dMbup\"><div class=\"pIRBV _T\" style=\"max-height:20px;line-break:normal;cursor:auto\"><span class=\"eBsXT _a\"><span>Dear Joan, It is a pleasure to read your comment and we are glad to know that you had a pleasant stay in Le Relais des Halles. Indeed, the hotel is located in a pedestrian street in the center of Paris, with great cafes to seat by. We look forward to welcome you again. Best regards, Eloïse</span></span></div><div class=\"eIVRK\"><div class=\"fQLRX\"><span class=\"pKHzN _S\">Read more</span><span class=\"ui_icon caret-down cnTXr\"></span></div></div></div></div><div class=\"fjfBT\"><div class=\"overflow\"><span class=\"fZuPO NF S8 _S fHtTy\"><svg class=\"fecdL d Vb wQMPa\" height=\"1em\" viewbox=\"0 0 24 24\" width=\"1em\" x=\"0\" y=\"0\"><circle cx=\"4.5\" cy=\"11.9\" r=\"2.5\"></circle><circle cx=\"19.5\" cy=\"11.9\" r=\"2.5\"></circle><circle cx=\"12\" cy=\"11.9\" r=\"2.5\"></circle></svg></span></div><span class=\"cRFAF _m\"></span></div></div></div></div>,\n",
       " <div class=\"cqoFv _T\" data-reviewid=\"808253378\"><div class=\"elFlG f O\"><div class=\"emWez F1\" data-test-target=\"review-rating\"><span class=\"ui_bubble_rating bubble_50\"></span></div></div><div class=\"fpMxB MC _S b S6 H5 _a\" data-test-target=\"review-title\" dir=\"ltr\"><a class=\"fCitC\" dir=\"\" href=\"/ShowUserReviews-g187147-d650135-r808253378-Le_Relais_des_Halles-Paris_Ile_de_France.html\"><span><span>Great find in an unbeatable location</span></span></a></div><div class=\"dovOW\"><div class=\"duhwe _T bOlcm dMbup\"><div class=\"pIRBV _T\" style=\"max-height:160px;line-break:normal;cursor:auto\"><q class=\"XllAv H4 _a\"><span>Very happy with my stay at the Relais des Halles. The location is truly exceptional, with easy access to the sights on foot or via subway, and to the airport via RER train. Neighborhood is very lively, and I felt very safe walking alone at night. My room was tiny but very well appointed and charming. The bathroom was large and well equipped, with great water pressure. Closet capacity was very good. What really caught my attention were the in-room amenities: a powerful stand-alone hair dryer, good quality toiletries,  an expresso machine and electric kettle with plenty of supplies. Breakfast was yummy if a bit pricy.</span></q></div><div class=\"eIVRK\"><div class=\"dlJyA\" data-test-target=\"expand-review\"><span class=\"eljVo _S Z\">Read more</span><span class=\"ui_icon caret-down zedZf\"></span></div></div></div><div class=\"fSKYy o Md S2\">Review collected in partnership with this hotel<div class=\"cNlBc\"><span class=\"ui_icon information-circle eBvVs\"></span></div></div><div class=\"bzjij\"><span class=\"euPKI _R Me S4 H3\"><span class=\"CrxzX\">Date of stay:</span> August 2021</span><span class=\"SELsE _\"><div class=\"cnFkU Me f\"><div class=\"fFwef S2 H2 cUidx\"><span class=\"YDXMO Nd\"><span class=\"ui_bubble_rating bubble_50\"></span></span><span>Value</span></div><div class=\"fFwef S2 H2 cUidx\"><span class=\"YDXMO Nd\"><span class=\"ui_bubble_rating bubble_50\"></span></span><span>Rooms</span></div><div class=\"fFwef S2 H2 cUidx\"><span class=\"YDXMO Nd\"><span class=\"ui_bubble_rating bubble_50\"></span></span><span>Location</span></div><div class=\"fFwef S2 H2 cUidx\"><span class=\"YDXMO Nd\"><span class=\"ui_bubble_rating bubble_50\"></span></span><span>Cleanliness</span></div><div class=\"fFwef S2 H2 cUidx\"><span class=\"YDXMO Nd\"><span class=\"ui_bubble_rating bubble_40\"></span></span><span>Service</span></div><div class=\"fFwef S2 H2 cUidx\"><span class=\"YDXMO Nd\"><span class=\"ui_bubble_rating bubble_50\"></span></span><span>Sleep Quality</span></div></div><span class=\"eHSjO _R Me\"><span class=\"trip_type_label\">Trip type: </span>Traveled solo</span></span></div><div class=\"euJzb\"><span class=\"DwnYB f _T Xd Y\"></span><div class=\"bLINs f _T Me z\"><span class=\"dNpHz f _T M _S\"><span class=\"ui_icon thumbs-up btimZ\"></span><span class=\"ui_link qgvJf\">Helpful</span></span><span class=\"bYeuv f\"><div><span><div class=\"bpxWy f _T M _S ezHcg\"><span><span class=\"ui_icon share cRDuN\"></span><span class=\"ui_link fWxYK socialCTA\">Share<!-- --> </span></span></div></span></div></span></div></div><div class=\"fWXSz\"><div class=\"cQDro\"><div class=\"svvjk Rb I o fknJY\"><svg aria-label=\"\" height=\"32\" viewbox=\"0 0 120 120\" width=\"32\"><rect class=\"bObhd\" height=\"120\" width=\"120\" x=\"0\" y=\"0\"></rect><circle class=\"ctRcq\" cx=\"59.101\" cy=\"53.731\" r=\"26.866\"></circle><circle class=\"dTEmx\" cx=\"58.408\" cy=\"131.846\" r=\"51.25\"></circle></svg></div></div><div><div class=\"fKqeL n\">Response from Eloïse Lefebvre, Service clients/Réception at Le Relais des Halles<div class=\"mzAim\" title=\"2021-10-07\">Responded 2 weeks ago</div></div><div class=\"duhwe _T bOlcm dMbup\"><div class=\"pIRBV _T\" style=\"max-height:20px;line-break:normal;cursor:auto\"><span class=\"eBsXT _a\"><span>Dear Guest, We thank you very much for the time taken to leave a comment and we are delighted to read that you had a great stay in Le Relais des Halles. Indeed, we are lucky to be located right next to the subway station in the center of Paris, convenient to take the RER. We are happy that you appreciated your room and the amenities as well as the breakfast, it is very important for us to offer the best service. We hope to have the pleasure to welcome you again. Best regards, Eloïse</span></span></div><div class=\"eIVRK\"><div class=\"fQLRX\"><span class=\"pKHzN _S\">Read more</span><span class=\"ui_icon caret-down cnTXr\"></span></div></div></div></div><div class=\"fjfBT\"><div class=\"overflow\"><span class=\"fZuPO NF S8 _S fHtTy\"><svg class=\"fecdL d Vb wQMPa\" height=\"1em\" viewbox=\"0 0 24 24\" width=\"1em\" x=\"0\" y=\"0\"><circle cx=\"4.5\" cy=\"11.9\" r=\"2.5\"></circle><circle cx=\"19.5\" cy=\"11.9\" r=\"2.5\"></circle><circle cx=\"12\" cy=\"11.9\" r=\"2.5\"></circle></svg></span></div><span class=\"cRFAF _m\"></span></div></div></div></div>]"
      ]
     },
     "execution_count": 69,
     "metadata": {},
     "output_type": "execute_result"
    }
   ],
   "source": [
    "items"
   ]
  },
  {
   "cell_type": "code",
   "execution_count": null,
   "metadata": {},
   "outputs": [],
   "source": []
  }
 ],
 "metadata": {
  "interpreter": {
   "hash": "b0fa6594d8f4cbf19f97940f81e996739fb7646882a419484c72d19e05852a7e"
  },
  "kernelspec": {
   "display_name": "Python 3.9.7 64-bit",
   "name": "python3"
  },
  "language_info": {
   "codemirror_mode": {
    "name": "ipython",
    "version": 3
   },
   "file_extension": ".py",
   "mimetype": "text/x-python",
   "name": "python",
   "nbconvert_exporter": "python",
   "pygments_lexer": "ipython3",
   "version": "3.9.7"
  }
 },
 "nbformat": 4,
 "nbformat_minor": 2
}
